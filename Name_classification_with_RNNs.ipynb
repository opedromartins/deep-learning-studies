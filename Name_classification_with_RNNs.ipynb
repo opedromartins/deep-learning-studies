{
  "nbformat": 4,
  "nbformat_minor": 0,
  "metadata": {
    "colab": {
      "provenance": [],
      "authorship_tag": "ABX9TyNdbEl+d2uSd+pU2AsBzFFp"
    },
    "kernelspec": {
      "name": "python3",
      "display_name": "Python 3"
    },
    "language_info": {
      "name": "python"
    }
  },
  "cells": [
    {
      "cell_type": "markdown",
      "source": [
        "# Name Classification with RNN\n",
        "Based on [Patrick Loeber](https://www.youtube.com/@patloeber)'s [Tutorial](https://www.youtube.com/watch?v=WEV61GmmPrk)"
      ],
      "metadata": {
        "id": "bhvjg_kKB3Se"
      }
    },
    {
      "cell_type": "markdown",
      "source": [
        "### Downloads and Imports"
      ],
      "metadata": {
        "id": "TswRt3ehCLWv"
      }
    },
    {
      "cell_type": "code",
      "execution_count": null,
      "metadata": {
        "colab": {
          "base_uri": "https://localhost:8080/"
        },
        "id": "ycGiTQWfBP3L",
        "outputId": "64ed2334-1c3c-4f13-a6d8-dbc298ac2cfc"
      },
      "outputs": [
        {
          "output_type": "stream",
          "name": "stdout",
          "text": [
            "--2023-09-04 19:48:06--  https://download.pytorch.org/tutorial/data.zip\n",
            "Resolving download.pytorch.org (download.pytorch.org)... 18.160.10.76, 18.160.10.36, 18.160.10.22, ...\n",
            "Connecting to download.pytorch.org (download.pytorch.org)|18.160.10.76|:443... connected.\n",
            "HTTP request sent, awaiting response... 304 Not Modified\n",
            "File ‘data.zip’ not modified on server. Omitting download.\n",
            "\n",
            "Archive:  data.zip\n"
          ]
        },
        {
          "output_type": "execute_result",
          "data": {
            "text/plain": []
          },
          "metadata": {},
          "execution_count": 81
        }
      ],
      "source": [
        "%%shell\n",
        "wget -N https://download.pytorch.org/tutorial/data.zip\n",
        "unzip -u data.zip"
      ]
    },
    {
      "cell_type": "code",
      "source": [
        "import string\n",
        "import unicodedata\n",
        "import io\n",
        "import os\n",
        "import glob\n",
        "import torch\n",
        "import random\n",
        "import torch.nn as nn\n",
        "import matplotlib.pyplot as plt"
      ],
      "metadata": {
        "id": "irEywtJwFjeJ"
      },
      "execution_count": null,
      "outputs": []
    },
    {
      "cell_type": "markdown",
      "source": [
        "## Code"
      ],
      "metadata": {
        "id": "W5m8ZH2eCN_d"
      }
    },
    {
      "cell_type": "markdown",
      "source": [
        "### Utils"
      ],
      "metadata": {
        "id": "rgYE9-YaDF6a"
      }
    },
    {
      "cell_type": "code",
      "source": [
        "ALL_LETTERS = string.ascii_letters + \" .,;'\"\n",
        "N_LETTERS = len(ALL_LETTERS)\n",
        "ALL_LETTERS, N_LETTERS"
      ],
      "metadata": {
        "colab": {
          "base_uri": "https://localhost:8080/"
        },
        "id": "O9R-8QD0BVBO",
        "outputId": "8c2453b3-d905-4cfb-90b5-724335cb7e9a"
      },
      "execution_count": null,
      "outputs": [
        {
          "output_type": "execute_result",
          "data": {
            "text/plain": [
              "(\"abcdefghijklmnopqrstuvwxyzABCDEFGHIJKLMNOPQRSTUVWXYZ .,;'\", 57)"
            ]
          },
          "metadata": {},
          "execution_count": 83
        }
      ]
    },
    {
      "cell_type": "code",
      "source": [
        "# Turn unicode string to ASCII\n",
        "\n",
        "def unicode_to_ascii(s):\n",
        "  return \"\".join(\n",
        "      c for c in unicodedata.normalize(\"NFD\", s)\n",
        "      if unicodedata.category(c) != \"Mn\"\n",
        "      and c in ALL_LETTERS\n",
        "  )"
      ],
      "metadata": {
        "id": "lv8SCSUqDQJ1"
      },
      "execution_count": null,
      "outputs": []
    },
    {
      "cell_type": "code",
      "source": [
        "unicode_to_ascii(\"pretérito\")"
      ],
      "metadata": {
        "colab": {
          "base_uri": "https://localhost:8080/"
        },
        "id": "Sa3eg0WWC306",
        "outputId": "398d56ec-ba77-48af-ca13-2b2a155772e6"
      },
      "execution_count": null,
      "outputs": [
        {
          "output_type": "execute_result",
          "data": {
            "text/plain": [
              "'preterito'"
            ],
            "application/vnd.google.colaboratory.intrinsic+json": {
              "type": "string"
            }
          },
          "metadata": {},
          "execution_count": 85
        }
      ]
    },
    {
      "cell_type": "code",
      "source": [
        "# path = 'data/names/*.txt'\n",
        "def load_data(path):\n",
        "  category_lines = {}\n",
        "  all_categories = []\n",
        "\n",
        "  # Glob\n",
        "  def find_files(files_path):\n",
        "    return glob.glob(files_path)\n",
        "\n",
        "  # Read a file and split into lined\n",
        "  def read_lines(filename):\n",
        "    lines = io.open(filename, encoding=\"utf-8\").read().strip().split(\"\\n\")\n",
        "    return [unicode_to_ascii(line) for line in lines]\n",
        "\n",
        "  for filename in find_files(path):\n",
        "    category = os.path.splitext(os.path.basename(filename))[0]\n",
        "    all_categories.append(category)\n",
        "\n",
        "    lines = read_lines(filename)\n",
        "    category_lines[category] = lines\n",
        "\n",
        "  return category_lines, all_categories"
      ],
      "metadata": {
        "id": "Ph5STOx8FR6m"
      },
      "execution_count": null,
      "outputs": []
    },
    {
      "cell_type": "code",
      "source": [
        "path = 'data/names/*.txt'\n",
        "load_data(path)[1]"
      ],
      "metadata": {
        "colab": {
          "base_uri": "https://localhost:8080/"
        },
        "id": "w6OwQ2ItC8Kd",
        "outputId": "b8bf581e-5d63-4591-e6fd-62ac56f4c2eb"
      },
      "execution_count": null,
      "outputs": [
        {
          "output_type": "execute_result",
          "data": {
            "text/plain": [
              "['Spanish',\n",
              " 'Chinese',\n",
              " 'German',\n",
              " 'Vietnamese',\n",
              " 'Czech',\n",
              " 'Japanese',\n",
              " 'Irish',\n",
              " 'Russian',\n",
              " 'Greek',\n",
              " 'French',\n",
              " 'Korean',\n",
              " 'Italian',\n",
              " 'English',\n",
              " 'Arabic',\n",
              " 'Polish',\n",
              " 'Portuguese',\n",
              " 'Scottish',\n",
              " 'Dutch']"
            ]
          },
          "metadata": {},
          "execution_count": 87
        }
      ]
    },
    {
      "cell_type": "code",
      "source": [
        "def letter_to_index(letter):\n",
        "  return ALL_LETTERS.find(letter)"
      ],
      "metadata": {
        "id": "1hbHuZwMqDVJ"
      },
      "execution_count": null,
      "outputs": []
    },
    {
      "cell_type": "code",
      "source": [
        "letter_to_index(\"P\")"
      ],
      "metadata": {
        "colab": {
          "base_uri": "https://localhost:8080/"
        },
        "id": "NblfpGRkIoxN",
        "outputId": "41b96457-bf4d-42e3-ab27-6eda126fefc4"
      },
      "execution_count": null,
      "outputs": [
        {
          "output_type": "execute_result",
          "data": {
            "text/plain": [
              "41"
            ]
          },
          "metadata": {},
          "execution_count": 89
        }
      ]
    },
    {
      "cell_type": "code",
      "source": [
        "def letter_to_tensor(letter):\n",
        "  tensor = torch.zeros(1, N_LETTERS)\n",
        "  tensor[0][letter_to_index(letter)] = 1\n",
        "  return tensor"
      ],
      "metadata": {
        "id": "SV4qRtUJBjsb"
      },
      "execution_count": null,
      "outputs": []
    },
    {
      "cell_type": "code",
      "source": [
        "letter_to_tensor(\"P\")"
      ],
      "metadata": {
        "colab": {
          "base_uri": "https://localhost:8080/"
        },
        "id": "VfFGhv5YBoeM",
        "outputId": "2c23e5e6-ea17-424c-f96e-4286257b9098"
      },
      "execution_count": null,
      "outputs": [
        {
          "output_type": "execute_result",
          "data": {
            "text/plain": [
              "tensor([[0., 0., 0., 0., 0., 0., 0., 0., 0., 0., 0., 0., 0., 0., 0., 0., 0., 0.,\n",
              "         0., 0., 0., 0., 0., 0., 0., 0., 0., 0., 0., 0., 0., 0., 0., 0., 0., 0.,\n",
              "         0., 0., 0., 0., 0., 1., 0., 0., 0., 0., 0., 0., 0., 0., 0., 0., 0., 0.,\n",
              "         0., 0., 0.]])"
            ]
          },
          "metadata": {},
          "execution_count": 91
        }
      ]
    },
    {
      "cell_type": "code",
      "source": [
        "def line_to_tensor(line):\n",
        "  tensor = torch.zeros(len(line), 1, N_LETTERS)\n",
        "  for i, letter in enumerate(line):\n",
        "    tensor[i][0][letter_to_index(letter)] = 1\n",
        "  return tensor"
      ],
      "metadata": {
        "id": "DdGtDd6DCL7K"
      },
      "execution_count": null,
      "outputs": []
    },
    {
      "cell_type": "code",
      "source": [
        "line_to_tensor(\"Pedro\")"
      ],
      "metadata": {
        "colab": {
          "base_uri": "https://localhost:8080/"
        },
        "id": "N5RD26RDCvAE",
        "outputId": "cb192e1a-36a1-44e8-998f-3dc1b2a52882"
      },
      "execution_count": null,
      "outputs": [
        {
          "output_type": "execute_result",
          "data": {
            "text/plain": [
              "tensor([[[0., 0., 0., 0., 0., 0., 0., 0., 0., 0., 0., 0., 0., 0., 0., 0., 0.,\n",
              "          0., 0., 0., 0., 0., 0., 0., 0., 0., 0., 0., 0., 0., 0., 0., 0., 0.,\n",
              "          0., 0., 0., 0., 0., 0., 0., 1., 0., 0., 0., 0., 0., 0., 0., 0., 0.,\n",
              "          0., 0., 0., 0., 0., 0.]],\n",
              "\n",
              "        [[0., 0., 0., 0., 1., 0., 0., 0., 0., 0., 0., 0., 0., 0., 0., 0., 0.,\n",
              "          0., 0., 0., 0., 0., 0., 0., 0., 0., 0., 0., 0., 0., 0., 0., 0., 0.,\n",
              "          0., 0., 0., 0., 0., 0., 0., 0., 0., 0., 0., 0., 0., 0., 0., 0., 0.,\n",
              "          0., 0., 0., 0., 0., 0.]],\n",
              "\n",
              "        [[0., 0., 0., 1., 0., 0., 0., 0., 0., 0., 0., 0., 0., 0., 0., 0., 0.,\n",
              "          0., 0., 0., 0., 0., 0., 0., 0., 0., 0., 0., 0., 0., 0., 0., 0., 0.,\n",
              "          0., 0., 0., 0., 0., 0., 0., 0., 0., 0., 0., 0., 0., 0., 0., 0., 0.,\n",
              "          0., 0., 0., 0., 0., 0.]],\n",
              "\n",
              "        [[0., 0., 0., 0., 0., 0., 0., 0., 0., 0., 0., 0., 0., 0., 0., 0., 0.,\n",
              "          1., 0., 0., 0., 0., 0., 0., 0., 0., 0., 0., 0., 0., 0., 0., 0., 0.,\n",
              "          0., 0., 0., 0., 0., 0., 0., 0., 0., 0., 0., 0., 0., 0., 0., 0., 0.,\n",
              "          0., 0., 0., 0., 0., 0.]],\n",
              "\n",
              "        [[0., 0., 0., 0., 0., 0., 0., 0., 0., 0., 0., 0., 0., 0., 1., 0., 0.,\n",
              "          0., 0., 0., 0., 0., 0., 0., 0., 0., 0., 0., 0., 0., 0., 0., 0., 0.,\n",
              "          0., 0., 0., 0., 0., 0., 0., 0., 0., 0., 0., 0., 0., 0., 0., 0., 0.,\n",
              "          0., 0., 0., 0., 0., 0.]]])"
            ]
          },
          "metadata": {},
          "execution_count": 93
        }
      ]
    },
    {
      "cell_type": "code",
      "source": [
        "def random_training_example(category_lines, all_categories):\n",
        "  def random_choice(a):\n",
        "    random_idx = random.randint(0, len(a) -1)\n",
        "    return a[random_idx]\n",
        "\n",
        "  category = random_choice(all_categories)\n",
        "  line = random_choice(category_lines[category])\n",
        "  category_tensor = torch.tensor([all_categories.index(category)], dtype=torch.long)\n",
        "  line_tensor = line_to_tensor(line)\n",
        "\n",
        "  return category, line, category_tensor, line_tensor"
      ],
      "metadata": {
        "id": "SXwPZhM5Cyyf"
      },
      "execution_count": null,
      "outputs": []
    },
    {
      "cell_type": "code",
      "source": [
        "category_lines, all_categories = load_data(path)\n",
        "random_training_example(category_lines, all_categories)"
      ],
      "metadata": {
        "colab": {
          "base_uri": "https://localhost:8080/"
        },
        "id": "VehiG2ItgR_O",
        "outputId": "586979b8-2e0c-458c-b77d-69c4ef8cb616"
      },
      "execution_count": null,
      "outputs": [
        {
          "output_type": "execute_result",
          "data": {
            "text/plain": [
              "('English',\n",
              " 'Perrett',\n",
              " tensor([12]),\n",
              " tensor([[[0., 0., 0., 0., 0., 0., 0., 0., 0., 0., 0., 0., 0., 0., 0., 0., 0.,\n",
              "           0., 0., 0., 0., 0., 0., 0., 0., 0., 0., 0., 0., 0., 0., 0., 0., 0.,\n",
              "           0., 0., 0., 0., 0., 0., 0., 1., 0., 0., 0., 0., 0., 0., 0., 0., 0.,\n",
              "           0., 0., 0., 0., 0., 0.]],\n",
              " \n",
              "         [[0., 0., 0., 0., 1., 0., 0., 0., 0., 0., 0., 0., 0., 0., 0., 0., 0.,\n",
              "           0., 0., 0., 0., 0., 0., 0., 0., 0., 0., 0., 0., 0., 0., 0., 0., 0.,\n",
              "           0., 0., 0., 0., 0., 0., 0., 0., 0., 0., 0., 0., 0., 0., 0., 0., 0.,\n",
              "           0., 0., 0., 0., 0., 0.]],\n",
              " \n",
              "         [[0., 0., 0., 0., 0., 0., 0., 0., 0., 0., 0., 0., 0., 0., 0., 0., 0.,\n",
              "           1., 0., 0., 0., 0., 0., 0., 0., 0., 0., 0., 0., 0., 0., 0., 0., 0.,\n",
              "           0., 0., 0., 0., 0., 0., 0., 0., 0., 0., 0., 0., 0., 0., 0., 0., 0.,\n",
              "           0., 0., 0., 0., 0., 0.]],\n",
              " \n",
              "         [[0., 0., 0., 0., 0., 0., 0., 0., 0., 0., 0., 0., 0., 0., 0., 0., 0.,\n",
              "           1., 0., 0., 0., 0., 0., 0., 0., 0., 0., 0., 0., 0., 0., 0., 0., 0.,\n",
              "           0., 0., 0., 0., 0., 0., 0., 0., 0., 0., 0., 0., 0., 0., 0., 0., 0.,\n",
              "           0., 0., 0., 0., 0., 0.]],\n",
              " \n",
              "         [[0., 0., 0., 0., 1., 0., 0., 0., 0., 0., 0., 0., 0., 0., 0., 0., 0.,\n",
              "           0., 0., 0., 0., 0., 0., 0., 0., 0., 0., 0., 0., 0., 0., 0., 0., 0.,\n",
              "           0., 0., 0., 0., 0., 0., 0., 0., 0., 0., 0., 0., 0., 0., 0., 0., 0.,\n",
              "           0., 0., 0., 0., 0., 0.]],\n",
              " \n",
              "         [[0., 0., 0., 0., 0., 0., 0., 0., 0., 0., 0., 0., 0., 0., 0., 0., 0.,\n",
              "           0., 0., 1., 0., 0., 0., 0., 0., 0., 0., 0., 0., 0., 0., 0., 0., 0.,\n",
              "           0., 0., 0., 0., 0., 0., 0., 0., 0., 0., 0., 0., 0., 0., 0., 0., 0.,\n",
              "           0., 0., 0., 0., 0., 0.]],\n",
              " \n",
              "         [[0., 0., 0., 0., 0., 0., 0., 0., 0., 0., 0., 0., 0., 0., 0., 0., 0.,\n",
              "           0., 0., 1., 0., 0., 0., 0., 0., 0., 0., 0., 0., 0., 0., 0., 0., 0.,\n",
              "           0., 0., 0., 0., 0., 0., 0., 0., 0., 0., 0., 0., 0., 0., 0., 0., 0.,\n",
              "           0., 0., 0., 0., 0., 0.]]]))"
            ]
          },
          "metadata": {},
          "execution_count": 95
        }
      ]
    },
    {
      "cell_type": "code",
      "source": [
        "print(ALL_LETTERS)\n",
        "print(unicode_to_ascii('Ślusàrski'))\n",
        "\n",
        "category_lines, all_categories = load_data(path)\n",
        "print(category_lines['Italian'][:5])\n",
        "\n",
        "print(letter_to_tensor('J'))\n",
        "print(line_to_tensor('Jones').size())"
      ],
      "metadata": {
        "colab": {
          "base_uri": "https://localhost:8080/"
        },
        "id": "zA8_q6MGgoiY",
        "outputId": "16ee4ee1-b279-4359-beef-a614bacdf053"
      },
      "execution_count": null,
      "outputs": [
        {
          "output_type": "stream",
          "name": "stdout",
          "text": [
            "abcdefghijklmnopqrstuvwxyzABCDEFGHIJKLMNOPQRSTUVWXYZ .,;'\n",
            "Slusarski\n",
            "['Abandonato', 'Abatangelo', 'Abatantuono', 'Abate', 'Abategiovanni']\n",
            "tensor([[0., 0., 0., 0., 0., 0., 0., 0., 0., 0., 0., 0., 0., 0., 0., 0., 0., 0.,\n",
            "         0., 0., 0., 0., 0., 0., 0., 0., 0., 0., 0., 0., 0., 0., 0., 0., 0., 1.,\n",
            "         0., 0., 0., 0., 0., 0., 0., 0., 0., 0., 0., 0., 0., 0., 0., 0., 0., 0.,\n",
            "         0., 0., 0.]])\n",
            "torch.Size([5, 1, 57])\n"
          ]
        }
      ]
    },
    {
      "cell_type": "markdown",
      "source": [
        "### RNN"
      ],
      "metadata": {
        "id": "n_mCeA85saS4"
      }
    },
    {
      "cell_type": "code",
      "source": [
        "class RNN(nn.Module):\n",
        "  def __init__(self, input_size, hidden_size, output_size):\n",
        "    super(RNN, self).__init__()\n",
        "\n",
        "    self.hidden_size = hidden_size\n",
        "    self.i2h = nn.Linear(input_size + hidden_size, hidden_size)\n",
        "    self.i2o = nn.Linear(input_size + hidden_size, output_size)\n",
        "    self.softmax = nn.LogSoftmax(dim=1)\n",
        "\n",
        "  def forward(self, input_tensor, hidden_tensor):\n",
        "    combined = torch.cat((input_tensor, hidden_tensor), 1)\n",
        "\n",
        "    hidden = self.i2h(combined)\n",
        "    output = self.i2o(combined)\n",
        "    output = self.softmax(output)\n",
        "\n",
        "    return output, hidden\n",
        "\n",
        "  def init_hidden(self):\n",
        "    return torch.zeros(1, self.hidden_size)"
      ],
      "metadata": {
        "id": "43c6E_m1sbAv"
      },
      "execution_count": null,
      "outputs": []
    },
    {
      "cell_type": "code",
      "source": [
        "category_lines, all_categories = load_data(path)\n",
        "n_categories = len(all_categories)\n",
        "n_categories"
      ],
      "metadata": {
        "id": "9-7WS1UpsgJQ",
        "colab": {
          "base_uri": "https://localhost:8080/"
        },
        "outputId": "982f7289-3523-4284-bf44-5d363644a588"
      },
      "execution_count": null,
      "outputs": [
        {
          "output_type": "execute_result",
          "data": {
            "text/plain": [
              "18"
            ]
          },
          "metadata": {},
          "execution_count": 98
        }
      ]
    },
    {
      "cell_type": "code",
      "source": [
        "n_hidden = 128"
      ],
      "metadata": {
        "id": "DaFY3spbCcAD"
      },
      "execution_count": null,
      "outputs": []
    },
    {
      "cell_type": "code",
      "source": [
        "rnn = RNN(N_LETTERS, n_hidden, n_categories)"
      ],
      "metadata": {
        "id": "OGDOgNJqCNW3"
      },
      "execution_count": null,
      "outputs": []
    },
    {
      "cell_type": "markdown",
      "source": [
        "One Step"
      ],
      "metadata": {
        "id": "tu5wNlxnZ7u1"
      }
    },
    {
      "cell_type": "code",
      "source": [
        "input_tensor = letter_to_tensor(\"P\")\n",
        "hidden_tensor = rnn.init_hidden()"
      ],
      "metadata": {
        "id": "wPfYnfefDGms"
      },
      "execution_count": null,
      "outputs": []
    },
    {
      "cell_type": "code",
      "source": [
        "output, next_hidden = rnn.forward(input_tensor, hidden_tensor)"
      ],
      "metadata": {
        "id": "ACydyEtRDSqA"
      },
      "execution_count": null,
      "outputs": []
    },
    {
      "cell_type": "code",
      "source": [
        "output.size(), next_hidden.size()"
      ],
      "metadata": {
        "id": "lSE5DwX9D5rL",
        "colab": {
          "base_uri": "https://localhost:8080/"
        },
        "outputId": "692f9055-419e-4ad1-a43e-a0e3acaa391d"
      },
      "execution_count": null,
      "outputs": [
        {
          "output_type": "execute_result",
          "data": {
            "text/plain": [
              "(torch.Size([1, 18]), torch.Size([1, 128]))"
            ]
          },
          "metadata": {},
          "execution_count": 103
        }
      ]
    },
    {
      "cell_type": "markdown",
      "source": [
        "Whole Sequence"
      ],
      "metadata": {
        "id": "tG6SPMpEZ-iv"
      }
    },
    {
      "cell_type": "code",
      "source": [
        "input_tensor = line_to_tensor(\"Pedro\")\n",
        "hidden_tensor = rnn.init_hidden()"
      ],
      "metadata": {
        "id": "taCAbjLAZf_Z"
      },
      "execution_count": null,
      "outputs": []
    },
    {
      "cell_type": "code",
      "source": [
        "output, next_hidden = rnn.forward(input_tensor[0], hidden_tensor)"
      ],
      "metadata": {
        "id": "EwiYBVYoaI1R"
      },
      "execution_count": null,
      "outputs": []
    },
    {
      "cell_type": "code",
      "source": [
        "output.size(), next_hidden.size()"
      ],
      "metadata": {
        "colab": {
          "base_uri": "https://localhost:8080/"
        },
        "id": "BcUkzaZ1aRBo",
        "outputId": "8141a5b9-ee4c-4cd3-a3d1-0065bac5415a"
      },
      "execution_count": null,
      "outputs": [
        {
          "output_type": "execute_result",
          "data": {
            "text/plain": [
              "(torch.Size([1, 18]), torch.Size([1, 128]))"
            ]
          },
          "metadata": {},
          "execution_count": 106
        }
      ]
    },
    {
      "cell_type": "markdown",
      "source": [
        "Repeat step for each character"
      ],
      "metadata": {
        "id": "fUejt7UMajnP"
      }
    },
    {
      "cell_type": "code",
      "source": [
        "def category_from_output(output):\n",
        "  category_idx = torch.argmax(output).item()\n",
        "  return all_categories[category_idx]"
      ],
      "metadata": {
        "id": "HIB-S_gdaavY"
      },
      "execution_count": null,
      "outputs": []
    },
    {
      "cell_type": "code",
      "source": [
        "category_from_output(output)"
      ],
      "metadata": {
        "colab": {
          "base_uri": "https://localhost:8080/",
          "height": 36
        },
        "id": "8KBxFjIQbIYg",
        "outputId": "ee023cf6-7847-4885-b01d-dc52ccc4d175"
      },
      "execution_count": null,
      "outputs": [
        {
          "output_type": "execute_result",
          "data": {
            "text/plain": [
              "'Japanese'"
            ],
            "application/vnd.google.colaboratory.intrinsic+json": {
              "type": "string"
            }
          },
          "metadata": {},
          "execution_count": 108
        }
      ]
    },
    {
      "cell_type": "markdown",
      "source": [
        "Parameters"
      ],
      "metadata": {
        "id": "AMzCdyYgcUVw"
      }
    },
    {
      "cell_type": "code",
      "source": [
        "criterion = nn.NLLLoss()\n",
        "lr = 0.005\n",
        "optimizer = torch.optim.SGD(rnn.parameters(), lr=lr)"
      ],
      "metadata": {
        "id": "htxQ64YVb3Ni"
      },
      "execution_count": null,
      "outputs": []
    },
    {
      "cell_type": "markdown",
      "source": [
        "Train"
      ],
      "metadata": {
        "id": "4hgsi6euh_C8"
      }
    },
    {
      "cell_type": "code",
      "source": [
        "def train(line_tensor, category_tensor):\n",
        "  hidden = rnn.init_hidden()\n",
        "\n",
        "  for i in range(line_tensor.size()[0]):\n",
        "    output, hidden = rnn.forward(line_tensor[i], hidden)\n",
        "\n",
        "  loss = criterion(output, category_tensor)\n",
        "\n",
        "  optimizer.zero_grad()\n",
        "  loss.backward()\n",
        "  optimizer.step()\n",
        "\n",
        "  return output, loss.item()"
      ],
      "metadata": {
        "id": "-lmUYdZdcVQ7"
      },
      "execution_count": null,
      "outputs": []
    },
    {
      "cell_type": "markdown",
      "source": [
        "More Parameters"
      ],
      "metadata": {
        "id": "JkNPAQDgiLRU"
      }
    },
    {
      "cell_type": "code",
      "source": [
        "current_loss = 0\n",
        "all_losses = []\n",
        "plot_steps, print_steps = 1000, 10000\n",
        "n_iters = 100000"
      ],
      "metadata": {
        "id": "C_5BJR8GeZrF"
      },
      "execution_count": null,
      "outputs": []
    },
    {
      "cell_type": "code",
      "source": [
        "for i in range(n_iters):\n",
        "  category, line, category_tensor, line_tensor = random_training_example(category_lines, all_categories)\n",
        "\n",
        "  output, loss = train(line_tensor, category_tensor)\n",
        "  current_loss += loss\n",
        "\n",
        "  if (i+1) % plot_steps == 0:\n",
        "    all_losses.append(current_loss / plot_steps)\n",
        "    current_loss = 0\n",
        "\n",
        "  if (i) % print_steps == 0:\n",
        "    guess = category_from_output(output)\n",
        "    correct = guess == category\n",
        "\n",
        "    print(f\"{'='*10}Iter {i}/{n_iters}{'='*10}\\nLoss: {loss:.4f}\\n\\nName: {line}\\nGuess: {guess}\\nCorrect: {correct}\\n\")"
      ],
      "metadata": {
        "colab": {
          "base_uri": "https://localhost:8080/"
        },
        "id": "DAFkwCvsiZt-",
        "outputId": "b225d71a-41ba-4ae5-f4e7-d774b5eb14f3"
      },
      "execution_count": null,
      "outputs": [
        {
          "output_type": "stream",
          "name": "stdout",
          "text": [
            "==========Iter 0/100000==========\n",
            "Loss: 2.9175\n",
            "\n",
            "Name: Chuhrov\n",
            "Guess: Spanish\n",
            "Correct: False\n",
            "\n",
            "==========Iter 10000/100000==========\n",
            "Loss: 2.3566\n",
            "\n",
            "Name: Knight\n",
            "Guess: English\n",
            "Correct: True\n",
            "\n",
            "==========Iter 20000/100000==========\n",
            "Loss: 1.7981\n",
            "\n",
            "Name: Fonseca\n",
            "Guess: Spanish\n",
            "Correct: False\n",
            "\n",
            "==========Iter 30000/100000==========\n",
            "Loss: 4.0711\n",
            "\n",
            "Name: Kokkali\n",
            "Guess: Japanese\n",
            "Correct: False\n",
            "\n",
            "==========Iter 40000/100000==========\n",
            "Loss: 2.0649\n",
            "\n",
            "Name: Leyshon\n",
            "Guess: Russian\n",
            "Correct: False\n",
            "\n",
            "==========Iter 50000/100000==========\n",
            "Loss: 0.2598\n",
            "\n",
            "Name: Nghiem\n",
            "Guess: Vietnamese\n",
            "Correct: True\n",
            "\n",
            "==========Iter 60000/100000==========\n",
            "Loss: 3.6738\n",
            "\n",
            "Name: Salomon\n",
            "Guess: French\n",
            "Correct: False\n",
            "\n",
            "==========Iter 70000/100000==========\n",
            "Loss: 2.7694\n",
            "\n",
            "Name: Althuis\n",
            "Guess: Greek\n",
            "Correct: False\n",
            "\n",
            "==========Iter 80000/100000==========\n",
            "Loss: 2.5998\n",
            "\n",
            "Name: Wyer\n",
            "Guess: Korean\n",
            "Correct: False\n",
            "\n",
            "==========Iter 90000/100000==========\n",
            "Loss: 1.5574\n",
            "\n",
            "Name: Kofel\n",
            "Guess: Arabic\n",
            "Correct: False\n",
            "\n"
          ]
        }
      ]
    },
    {
      "cell_type": "code",
      "source": [
        "plt.figure()\n",
        "plt.plot(all_losses)\n",
        "plt.show()"
      ],
      "metadata": {
        "colab": {
          "base_uri": "https://localhost:8080/",
          "height": 430
        },
        "id": "EAnSTDeckSbf",
        "outputId": "a27dc876-3454-4786-f906-9706e5210689"
      },
      "execution_count": null,
      "outputs": [
        {
          "output_type": "display_data",
          "data": {
            "text/plain": [
              "<Figure size 640x480 with 1 Axes>"
            ],
            "image/png": "[encoded data removed]"
          },
          "metadata": {}
        }
      ]
    },
    {
      "cell_type": "code",
      "source": [
        "def predict(input_line):\n",
        "  print(f\"> {input_line}\")\n",
        "  with torch.no_grad():\n",
        "    line_tensor = line_to_tensor(input_line)\n",
        "\n",
        "    hidden = rnn.init_hidden()\n",
        "\n",
        "    for i in range(line_tensor.size()[0]):\n",
        "      output, hidden = rnn.forward(line_tensor[i], hidden)\n",
        "\n",
        "    guess = category_from_output(output)\n",
        "    print(guess)"
      ],
      "metadata": {
        "id": "ZKx2Q85Qwero"
      },
      "execution_count": null,
      "outputs": []
    },
    {
      "cell_type": "code",
      "source": [
        "predict(\"Raskólnikov\")"
      ],
      "metadata": {
        "colab": {
          "base_uri": "https://localhost:8080/"
        },
        "id": "M-Zgqheyw7c3",
        "outputId": "f638ab54-a49f-40ec-df25-576424ef550e"
      },
      "execution_count": null,
      "outputs": [
        {
          "output_type": "stream",
          "name": "stdout",
          "text": [
            "> Raskólnikov\n",
            "Russian\n"
          ]
        }
      ]
    },
    {
      "cell_type": "code",
      "source": [
        "predict(\"Naruto\")"
      ],
      "metadata": {
        "colab": {
          "base_uri": "https://localhost:8080/"
        },
        "id": "UDDHcFx0xNrN",
        "outputId": "ddfd4391-9afd-4f96-a17b-465495446bc3"
      },
      "execution_count": null,
      "outputs": [
        {
          "output_type": "stream",
          "name": "stdout",
          "text": [
            "> Naruto\n",
            "Japanese\n"
          ]
        }
      ]
    },
    {
      "cell_type": "code",
      "source": [
        "predict(\"Euler\")"
      ],
      "metadata": {
        "colab": {
          "base_uri": "https://localhost:8080/"
        },
        "id": "P5nz3TZwxPDm",
        "outputId": "a045a4a9-52cd-440c-f86d-bc5c816148ec"
      },
      "execution_count": null,
      "outputs": [
        {
          "output_type": "stream",
          "name": "stdout",
          "text": [
            "> Euler\n",
            "German\n"
          ]
        }
      ]
    }
  ]
}